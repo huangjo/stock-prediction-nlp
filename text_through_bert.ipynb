{
 "cells": [
  {
   "cell_type": "code",
   "execution_count": 1,
   "metadata": {},
   "outputs": [],
   "source": [
    "import tensorflow_hub as hub\n",
    "import tensorflow as tf\n",
    "import bert\n",
    "from tensorflow.keras.layers import Layer\n",
    "from tensorflow.keras.models import Model"
   ]
  },
  {
   "cell_type": "code",
   "execution_count": 2,
   "metadata": {},
   "outputs": [],
   "source": [
    "import pandas as pd, numpy as np\n",
    "from matplotlib import pyplot as plt\n",
    "\n",
    "df = pd.read_csv(\"csv/articles_Bitcoin-Cryptocurrency_start=2019-01-01_end=2020-12-31.csv\", index_col = 0)"
   ]
  },
  {
   "cell_type": "code",
   "execution_count": 3,
   "metadata": {},
   "outputs": [],
   "source": [
    "import yfinance as yf\n",
    "\n",
    "start = \"2019-01-01\"\n",
    "end   = \"2020-03-20\"\n",
    "stocks = [\"BTC-USD\"]\n",
    "keywords = {\"BTC-USD\" : [\"Bitcoin\", \"Cryptocurrency\"] }\n",
    "\n",
    "df_financial = yf.download(stocks, \n",
    "                     #period = \"1Y\",\n",
    "                      start= start, \n",
    "                      end= end, \n",
    "                      progress=False)\n",
    "df_financial = df_financial[\"Close\"]"
   ]
  },
  {
   "cell_type": "markdown",
   "metadata": {},
   "source": [
    "### Split sentences"
   ]
  },
  {
   "cell_type": "code",
   "execution_count": 27,
   "metadata": {},
   "outputs": [],
   "source": [
    "articles = df.maintext\n",
    "articles.index = df[\"date_google\"]"
   ]
  },
  {
   "cell_type": "code",
   "execution_count": 28,
   "metadata": {},
   "outputs": [],
   "source": [
    "import nltk.data\n",
    "\n",
    "split_sentence_tokenizer = nltk.data.load('tokenizers/punkt/english.pickle')"
   ]
  },
  {
   "cell_type": "code",
   "execution_count": 30,
   "metadata": {},
   "outputs": [],
   "source": [
    "split_sentences = articles.apply(split_sentence_tokenizer.tokenize)\n",
    "split_sentences = split_sentences.groupby(split_sentences.index).sum()\n",
    "split_sentences = pd.DataFrame(split_sentences)"
   ]
  },
  {
   "cell_type": "markdown",
   "metadata": {},
   "source": [
    "### FullTokenizer"
   ]
  },
  {
   "cell_type": "code",
   "execution_count": 25,
   "metadata": {},
   "outputs": [],
   "source": [
    "def create_tokenizer(vocab_file='vocab.txt', do_lower_case=False):\n",
    "    return bert.bert_tokenization.FullTokenizer(vocab_file=vocab_file, do_lower_case=do_lower_case)\n",
    "\n",
    "def convert_sentence_to_features(sentence, tokenizer, max_seq_len):\n",
    "    tokens = ['[CLS]']\n",
    "    tokens.extend(tokenizer.tokenize(sentence))\n",
    "    if len(tokens) > max_seq_len-1:\n",
    "        tokens = tokens[:max_seq_len-1]\n",
    "    tokens.append('[SEP]')\n",
    "    \n",
    "    segment_ids = [0] * len(tokens)\n",
    "    input_ids = tokenizer.convert_tokens_to_ids(tokens)\n",
    "    input_mask = [1] * len(input_ids)\n",
    "\n",
    "    #Zero Mask till seq_length\n",
    "    zero_mask = [0] * (max_seq_len-len(tokens))\n",
    "    input_ids.extend(zero_mask)\n",
    "    input_mask.extend(zero_mask)\n",
    "    segment_ids.extend(zero_mask)\n",
    "    \n",
    "    return input_ids, input_mask, segment_ids\n",
    "\n",
    "def convert_sentences_to_features(sentences, tokenizer, max_seq_len=200):\n",
    "    all_input_ids = []\n",
    "    all_input_mask = []\n",
    "    all_segment_ids = []\n",
    "    \n",
    "    for sentence in sentences:\n",
    "        input_ids, input_mask, segment_ids = convert_sentence_to_features(sentence, tokenizer, max_seq_len)\n",
    "        all_input_ids.append(input_ids)\n",
    "        all_input_mask.append(input_mask)\n",
    "        all_segment_ids.append(segment_ids)\n",
    "    \n",
    "    return all_input_ids, all_input_mask, all_segment_ids\n",
    "\n",
    "def generate_data_for_tokenizer(split_text,target_series):\n",
    "    labels_list = []\n",
    "    dates = []\n",
    "    for date, arrays in split_text.itertuples():\n",
    "        dates.extend([date]* len(arrays))\n",
    "    for date in dates:\n",
    "        labels_list.append(target_series.loc[date])\n",
    "    \n",
    "    split_text_flat = split_text.values.flatten()\n",
    "    sentence_list = [sentence for array in split_text_flat for sentence in array]\n",
    "    \n",
    "    labels = pd.DataFrame(labels_list, index = dates)\n",
    "    sentences  = pd.DataFrame(sentence_list, index = dates)\n",
    "    return sentences, labels"
   ]
  },
  {
   "cell_type": "code",
   "execution_count": 2,
   "metadata": {},
   "outputs": [],
   "source": [
    "BERT_URL = \"https://tfhub.dev/tensorflow/bert_en_uncased_L-12_H-768_A-12/1\"\n",
    "bert_layer = hub.KerasLayer(BERT_URL, trainable=False)\n",
    "\n",
    "vocab_file = bert_layer.resolved_object.vocab_file.asset_path.numpy()\n",
    "\n",
    "tokenizer = create_tokenizer(vocab_file)\n"
   ]
  },
  {
   "cell_type": "code",
   "execution_count": 23,
   "metadata": {},
   "outputs": [],
   "source": [
    "def count_words(array):\n",
    "    return len(array[0].split())"
   ]
  },
  {
   "cell_type": "code",
   "execution_count": 31,
   "metadata": {},
   "outputs": [],
   "source": [
    "#df_returns = df_financial.pct_change()\n",
    "df_diff = pd.DataFrame()\n",
    "df_diff[\"BTC-USD\"] = df_financial - df_financial.shift()\n",
    "\n",
    "raw_sentences, raw_labels = generate_data_for_tokenizer(split_sentences,df_diff[\"BTC-USD\"])\n",
    "\n",
    "lengths = raw_sentences.apply(count_words, axis = 1)\n",
    "sentences = raw_sentences[(lengths > 10) & (lengths < 120)] #filter short and long sentences\n",
    "labels = raw_labels[(lengths > 10) & (lengths < 120)]\n",
    "\n",
    "threshold = \"2020-01-01\"\n",
    "train_sentences = sentences.loc[:\"2019-12-31\"]\n",
    "test_sentences = sentences.loc[\"2020-01-01\":]\n",
    "train_labels = labels.loc[:\"2019-12-31\"]\n",
    "test_labels = labels.loc[\"2020-01-01\":]"
   ]
  },
  {
   "cell_type": "code",
   "execution_count": 365,
   "metadata": {},
   "outputs": [
    {
     "name": "stdout",
     "output_type": "stream",
     "text": [
      "True\n"
     ]
    }
   ],
   "source": [
    "print(len(filtered_lengths) == train_sentences.shape[0] + test_sentences.shape[0])\n",
    "train_lengths = filtered_lengths[:train_sentences.shape[0]]\n",
    "test_lengths = filtered_lengths[train_sentences.shape[0] + 1:]\n",
    "print(len(train_lengths))\n",
    "print(len(test_lengths))"
   ]
  },
  {
   "cell_type": "code",
   "execution_count": 89,
   "metadata": {},
   "outputs": [
    {
     "data": {
      "text/plain": [
       "[]"
      ]
     },
     "execution_count": 89,
     "metadata": {},
     "output_type": "execute_result"
    },
    {
     "data": {
      "image/png": "[encoded data removed]",
      "text/plain": [
       "<Figure size 432x288 with 1 Axes>"
      ]
     },
     "metadata": {
      "needs_background": "light"
     },
     "output_type": "display_data"
    }
   ],
   "source": [
    "filtered_lengths = lengths[(lengths > 10) & (lengths < 120)]\n",
    "plt.hist(filtered_lengths, bins = 100)\n",
    "plt.plot()"
   ]
  },
  {
   "cell_type": "code",
   "execution_count": 223,
   "metadata": {},
   "outputs": [
    {
     "data": {
      "text/plain": [
       "(40522, 1)"
      ]
     },
     "execution_count": 223,
     "metadata": {},
     "output_type": "execute_result"
    }
   ],
   "source": [
    "train_sentences.shape"
   ]
  },
  {
   "cell_type": "code",
   "execution_count": 90,
   "metadata": {},
   "outputs": [],
   "source": [
    "train_input_ids, train_input_masks, train_segment_ids = convert_sentences_to_features(train_sentences.values.flatten(), tokenizer, 120)\n",
    "test_input_ids, test_input_masks, test_segment_ids = convert_sentences_to_features(test_sentences.values.flatten(), tokenizer, 120)\n"
   ]
  },
  {
   "cell_type": "code",
   "execution_count": 95,
   "metadata": {},
   "outputs": [],
   "source": [
    "train_inputs = {\n",
    "     \"input_ids\": np.array(train_input_ids),\n",
    "     \"input_mask\": np.array(train_input_masks),\n",
    "     \"segment_ids\": np.array(train_segment_ids),\n",
    "     }\n",
    "test_inputs = {\n",
    "     \"input_ids\": np.array(test_input_ids, dtype = 'int64'),\n",
    "     \"input_mask\": np.array(test_input_masks, dtype = 'int64'),\n",
    "     \"segment_ids\": np.array(test_segment_ids, dtype = 'int64'),\n",
    "     }"
   ]
  },
  {
   "cell_type": "code",
   "execution_count": null,
   "metadata": {},
   "outputs": [],
   "source": [
    "for k in test_inputs:\n",
    "    test_inputs[k] = tf.cast(test_inputs[k], tf.int32)"
   ]
  },
  {
   "cell_type": "markdown",
   "metadata": {},
   "source": [
    "### BERT output"
   ]
  },
  {
   "cell_type": "code",
   "execution_count": 92,
   "metadata": {},
   "outputs": [],
   "source": [
    "max_seq_length = 120\n",
    "# Build model\n",
    "in_id = tf.keras.layers.Input(shape=(max_seq_length,), dtype=tf.int32, name=\"input_ids\")\n",
    "in_mask = tf.keras.layers.Input(shape=(max_seq_length,), dtype=tf.int32, name=\"input_mask\")\n",
    "in_segment = tf.keras.layers.Input(shape=(max_seq_length,), dtype=tf.int32, name=\"segment_ids\")\n",
    "bert_inputs = [in_id, in_mask, in_segment]\n",
    "\n",
    "# Instantiate the custom Bert Layer defined above\n",
    "pooled_output, sequence_output = bert_layer(inputs = bert_inputs)\n",
    "bert_outputs = [pooled_output, sequence_output]\n",
    "bert_model = tf.keras.models.Model(inputs=bert_inputs, outputs=bert_outputs)\n",
    "bert_model.compile(loss='mean_squared_error', optimizer='adam')"
   ]
  },
  {
   "cell_type": "code",
   "execution_count": 96,
   "metadata": {},
   "outputs": [],
   "source": [
    "train_bert_output = bert_model.predict(train_inputs, batch_size=256)"
   ]
  },
  {
   "cell_type": "code",
   "execution_count": 97,
   "metadata": {},
   "outputs": [],
   "source": [
    "test_bert_output = bert_model.predict(test_inputs, batch_size=256)"
   ]
  },
  {
   "cell_type": "code",
   "execution_count": 98,
   "metadata": {},
   "outputs": [
    {
     "data": {
      "text/plain": [
       "2"
      ]
     },
     "execution_count": 98,
     "metadata": {},
     "output_type": "execute_result"
    }
   ],
   "source": [
    "len(train_bert_output)"
   ]
  },
  {
   "cell_type": "code",
   "execution_count": 105,
   "metadata": {},
   "outputs": [],
   "source": [
    "np.save(\"train_bert_output_pooled\",train_bert_output[0])\n",
    "np.save(\"train_bert_output_sequence\",train_bert_output[1])\n",
    "np.save(\"test_bert_output_pooled\",test_bert_output[0])\n",
    "np.save(\"test_bert_output_sequence\",test_bert_output[1])"
   ]
  },
  {
   "cell_type": "code",
   "execution_count": 115,
   "metadata": {},
   "outputs": [],
   "source": [
    "def smooth(y, box_pts):\n",
    "    box = np.ones(box_pts)/box_pts\n",
    "    y_smooth = np.convolve(y, box, mode='same')\n",
    "    return y_smooth"
   ]
  },
  {
   "cell_type": "code",
   "execution_count": 125,
   "metadata": {},
   "outputs": [
    {
     "data": {
      "text/plain": [
       "314"
      ]
     },
     "execution_count": 125,
     "metadata": {},
     "output_type": "execute_result"
    }
   ],
   "source": [
    "from random import randint\n",
    "randint(0, 768)"
   ]
  },
  {
   "cell_type": "code",
   "execution_count": 140,
   "metadata": {},
   "outputs": [
    {
     "data": {
      "text/plain": [
       "(40522, 768)"
      ]
     },
     "execution_count": 140,
     "metadata": {},
     "output_type": "execute_result"
    }
   ],
   "source": [
    "train_bert_output[0].shape"
   ]
  },
  {
   "cell_type": "code",
   "execution_count": 222,
   "metadata": {},
   "outputs": [
    {
     "data": {
      "text/plain": [
       "[<matplotlib.lines.Line2D at 0x18489ac1160>]"
      ]
     },
     "execution_count": 222,
     "metadata": {},
     "output_type": "execute_result"
    },
    {
     "data": {
      "image/png": "[encoded data removed]",
      "text/plain": [
       "<Figure size 720x360 with 1 Axes>"
      ]
     },
     "metadata": {
      "needs_background": "light"
     },
     "output_type": "display_data"
    }
   ],
   "source": [
    "max_ = 768 # 40522\n",
    "i = randint(0, max_)\n",
    "i2 = randint(0, max_)\n",
    "s = train_bert_output[0][:,i]\n",
    "s2 = train_bert_output[0][:,i + 1]\n",
    "\n",
    "plt.figure(figsize=(10, 5))\n",
    "plt.plot(smooth(s,300), '-', lw=0.2)\n",
    "plt.plot(smooth(s2,300), '-', lw=0.2)\n"
   ]
  },
  {
   "cell_type": "code",
   "execution_count": 277,
   "metadata": {},
   "outputs": [
    {
     "data": {
      "text/plain": [
       "2019-01-01    20\n",
       "2019-01-01    23\n",
       "2019-01-01    21\n",
       "2019-01-01    29\n",
       "2019-01-01    17\n",
       "              ..\n",
       "2020-03-19    28\n",
       "2020-03-19    33\n",
       "2020-03-19    14\n",
       "2020-03-19    26\n",
       "2020-03-19    38\n",
       "Length: 48947, dtype: int64"
      ]
     },
     "execution_count": 277,
     "metadata": {},
     "output_type": "execute_result"
    }
   ],
   "source": [
    "filtered_lengths"
   ]
  },
  {
   "cell_type": "code",
   "execution_count": 266,
   "metadata": {},
   "outputs": [
    {
     "data": {
      "text/plain": [
       "(40522, 120, 768)"
      ]
     },
     "execution_count": 266,
     "metadata": {},
     "output_type": "execute_result"
    }
   ],
   "source": [
    "train_bert_output[1].shape"
   ]
  },
  {
   "cell_type": "code",
   "execution_count": 298,
   "metadata": {},
   "outputs": [
    {
     "name": "stdout",
     "output_type": "stream",
     "text": [
      "(40522, 120)\n",
      "(40522, 120)\n",
      "(40522, 120)\n"
     ]
    }
   ],
   "source": [
    "print(train_inputs[\"input_ids\"].shape)\n",
    "print(train_inputs[\"input_mask\"].shape)\n",
    "print(train_inputs[\"segment_ids\"].shape)"
   ]
  },
  {
   "cell_type": "code",
   "execution_count": 326,
   "metadata": {},
   "outputs": [
    {
     "name": "stdout",
     "output_type": "stream",
     "text": [
      "Sentence ['Cryptocurrency exchange HitBTC has frozen its customers’ accounts ahead of an annual proof of keys event, according to multiple sources.']\n",
      "Text number of words:  20 20\n",
      "Text number of tokens:  25\n",
      "\n",
      "input_ids \n",
      " [ 101  100 3863  100 2038 7708 2049 6304 1521 6115 3805 1997 2019 3296\n",
      " 6947 1997 6309 2724 1010 2429 2000 3674 4216 1012  102    0    0    0\n",
      "    0    0    0    0    0    0    0    0    0    0    0    0    0    0\n",
      "    0    0    0    0    0    0    0    0    0    0    0    0    0    0\n",
      "    0    0    0    0    0    0    0    0    0    0    0    0    0    0\n",
      "    0    0    0    0    0    0    0    0    0    0    0    0    0    0\n",
      "    0    0    0    0    0    0    0    0    0    0    0    0    0    0\n",
      "    0    0    0    0    0    0    0    0    0    0    0    0    0    0\n",
      "    0    0    0    0    0    0    0    0]\n",
      "input_mask \n",
      " [1 1 1 1 1 1 1 1 1 1 1 1 1 1 1 1 1 1 1 1 1 1 1 1 1 0 0 0 0 0 0 0 0 0 0 0 0\n",
      " 0 0 0 0 0 0 0 0 0 0 0 0 0 0 0 0 0 0 0 0 0 0 0 0 0 0 0 0 0 0 0 0 0 0 0 0 0\n",
      " 0 0 0 0 0 0 0 0 0 0 0 0 0 0 0 0 0 0 0 0 0 0 0 0 0 0 0 0 0 0 0 0 0 0 0 0 0\n",
      " 0 0 0 0 0 0 0 0 0]\n",
      "segment_ids \n",
      " [0 0 0 0 0 0 0 0 0 0 0 0 0 0 0 0 0 0 0 0 0 0 0 0 0 0 0 0 0 0 0 0 0 0 0 0 0\n",
      " 0 0 0 0 0 0 0 0 0 0 0 0 0 0 0 0 0 0 0 0 0 0 0 0 0 0 0 0 0 0 0 0 0 0 0 0 0\n",
      " 0 0 0 0 0 0 0 0 0 0 0 0 0 0 0 0 0 0 0 0 0 0 0 0 0 0 0 0 0 0 0 0 0 0 0 0 0\n",
      " 0 0 0 0 0 0 0 0 0]\n"
     ]
    },
    {
     "data": {
      "text/plain": [
       "[<matplotlib.lines.Line2D at 0x18496cadda0>]"
      ]
     },
     "execution_count": 326,
     "metadata": {},
     "output_type": "execute_result"
    },
    {
     "data": {
      "image/png": "[encoded data removed]",
      "text/plain": [
       "<Figure size 720x360 with 1 Axes>"
      ]
     },
     "metadata": {
      "needs_background": "light"
     },
     "output_type": "display_data"
    }
   ],
   "source": [
    "i = 0#randint(0, 40522)\n",
    "text = train_sentences.values[i]\n",
    "print(\"Sentence\",text)\n",
    "print(\"Text number of words: \",filtered_lengths[i], len(text[0].split(\" \")))\n",
    "print(\"Text number of tokens: \", train_inputs[\"input_mask\"][i].sum())\n",
    "print(\"\\ninput_ids \\n\",train_inputs[\"input_ids\"][i])\n",
    "print(\"input_mask \\n\",train_inputs[\"input_mask\"][i])\n",
    "print(\"segment_ids \\n\",train_inputs[\"segment_ids\"][i])\n",
    "\n",
    "_120_1 = train_bert_output[1][i,:,1]\n",
    "_120_2 = train_bert_output[1][i,:,2]\n",
    "plt.figure(figsize=(10, 5))\n",
    "plt.plot(smooth(_120_1,1), '-', lw=0.6)\n",
    "plt.plot(smooth(_120_2,1), '-', lw=0.6)"
   ]
  },
  {
   "cell_type": "code",
   "execution_count": 334,
   "metadata": {},
   "outputs": [
    {
     "data": {
      "text/plain": [
       "(40522, 120, 768)"
      ]
     },
     "execution_count": 334,
     "metadata": {},
     "output_type": "execute_result"
    }
   ],
   "source": [
    "test_bert_output[1][n_tokens].shape"
   ]
  },
  {
   "cell_type": "code",
   "execution_count": 355,
   "metadata": {},
   "outputs": [],
   "source": [
    "train_n_tokens = train_inputs[\"input_mask\"][:].sum(axis = 1)\n",
    "train_mask_out = [train_bert_output[1][counter,:length,:] for length, counter in zip(train_n_tokens,range(len(train_n_tokens)))]\n",
    "test_n_tokens = test_inputs[\"input_mask\"][:].sum(axis = 1)\n",
    "test_mask_out = [test_bert_output[1][counter,:length,:] for length, counter in zip(test_n_tokens,range(len(test_n_tokens)))]"
   ]
  },
  {
   "cell_type": "code",
   "execution_count": 368,
   "metadata": {},
   "outputs": [
    {
     "name": "stdout",
     "output_type": "stream",
     "text": [
      "(40522, 1)\n",
      "(8425, 1)\n"
     ]
    }
   ],
   "source": [
    "print(train_sentences.shape)\n",
    "train_n_sentences = train_sentences.groupby(train_sentences.index).count()\n",
    "print(test_sentences.shape)\n",
    "test_n_sentences = test_sentences.groupby(test_sentences.index).count()"
   ]
  },
  {
   "cell_type": "code",
   "execution_count": 474,
   "metadata": {},
   "outputs": [],
   "source": [
    "def bert_output_to_one_time_series_per_day(mask_out, n_sentences):\n",
    "    articles_per_day = []\n",
    "    acc = 0\n",
    "    for n in n_sentences.values:\n",
    "        n = n[0]\n",
    "        concat_articles = np.array(mask_out[acc:acc + n])\n",
    "        flattened = []\n",
    "        for sentence in concat_articles:\n",
    "            for token in sentence:\n",
    "                flattened.append(token)\n",
    "        flattened = np.array(flattened)\n",
    "        #flattened = np.array([token for token in sentence for sentence in concat_articles])\n",
    "        articles_per_day.append(flattened)\n",
    "        acc += n\n",
    "    return np.array(articles_per_day)"
   ]
  },
  {
   "cell_type": "code",
   "execution_count": 475,
   "metadata": {},
   "outputs": [],
   "source": [
    "train_bert_concat_articles = bert_output_to_one_time_series_per_day(train_mask_out, train_n_sentences)\n",
    "test_bert_concat_articles = bert_output_to_one_time_series_per_day(test_mask_out, test_n_sentences)"
   ]
  },
  {
   "cell_type": "code",
   "execution_count": 486,
   "metadata": {},
   "outputs": [],
   "source": [
    "np.save(\"train_bert_concat_articles\",train_bert_concat_articles)\n",
    "np.save(\"test_bert_concat_articles\",test_bert_concat_articles)\n",
    "train_labels.to_pickle(\"train_labels\")\n",
    "test_labels.to_pickle(\"test_labels\")"
   ]
  },
  {
   "cell_type": "code",
   "execution_count": 485,
   "metadata": {},
   "outputs": [
    {
     "name": "stdout",
     "output_type": "stream",
     "text": [
      "25 31\n"
     ]
    },
    {
     "data": {
      "text/plain": [
       "[<matplotlib.lines.Line2D at 0x18a7e476588>]"
      ]
     },
     "execution_count": 485,
     "metadata": {},
     "output_type": "execute_result"
    },
    {
     "data": {
      "image/png": "[encoded data removed]",
      "text/plain": [
       "<Figure size 720x360 with 1 Axes>"
      ]
     },
     "metadata": {
      "needs_background": "light"
     },
     "output_type": "display_data"
    }
   ],
   "source": [
    "i = 0\n",
    "mask_i = train_inputs[\"input_mask\"][i].sum()\n",
    "mask_i1 = train_inputs[\"input_mask\"][i + 1].sum()\n",
    "print(mask_i,mask_i1)\n",
    "masked_sentence = train_bert_output[1][i,:mask_i,0]\n",
    "masked_sentence1 = train_bert_output[1][i+1,:mask_i,0]\n",
    "concat = np.append(masked_sentence,masked_sentence1)\n",
    "plt.figure(figsize=(10, 5))\n",
    "plt.plot(concat, '-', lw=0.6)\n",
    "plt.plot(train_bert_concat_articles[0][:mask_i + mask_i1,0], '-', lw=0.4)"
   ]
  },
  {
   "cell_type": "markdown",
   "metadata": {},
   "source": [
    "## LSTM"
   ]
  },
  {
   "cell_type": "markdown",
   "metadata": {},
   "source": [
    "- https://ieeexplore.ieee.org/document/8141873\n",
    "- https://machinelearningmastery.com/sequence-classification-lstm-recurrent-neural-networks-python-keras/\n",
    "- https://machinelearningmastery.com/how-to-develop-lstm-models-for-time-series-forecasting/"
   ]
  },
  {
   "cell_type": "code",
   "execution_count": 1,
   "metadata": {},
   "outputs": [],
   "source": [
    "import pandas as pd, numpy as np"
   ]
  },
  {
   "cell_type": "code",
   "execution_count": 3,
   "metadata": {},
   "outputs": [],
   "source": [
    "import numpy as np\n",
    "# save np.load\n",
    "np_load_old = np.load\n",
    "\n",
    "# modify the default parameters of np.load\n",
    "np.load = lambda *a,**k: np_load_old(*a, allow_pickle=True, **k)"
   ]
  },
  {
   "cell_type": "code",
   "execution_count": 4,
   "metadata": {},
   "outputs": [],
   "source": [
    "train_bert_concat_articles = np.load(\"train_bert_concat_articles.npy\")\n",
    "test_bert_concat_articles  = np.load(\"test_bert_concat_articles.npy\")"
   ]
  },
  {
   "cell_type": "code",
   "execution_count": 5,
   "metadata": {},
   "outputs": [],
   "source": [
    "np.load = np_load_old"
   ]
  },
  {
   "cell_type": "code",
   "execution_count": 6,
   "metadata": {},
   "outputs": [],
   "source": [
    "train_labels = pd.read_pickle(\"train_labels\")\n",
    "test_labels = pd.read_pickle(\"test_labels\")"
   ]
  },
  {
   "cell_type": "code",
   "execution_count": 8,
   "metadata": {},
   "outputs": [],
   "source": [
    "def my_own_pad_sequence(array, maxlen):\n",
    "    X_tr = []\n",
    "    for x in array:\n",
    "        length =  x.shape[0]\n",
    "        if length > maxlen:\n",
    "            X_tr.append(x[:maxlen])\n",
    "        else:\n",
    "            pad_diff = maxlen - length\n",
    "            x = np.vstack((x, np.zeros([pad_diff,x.shape[1]])))\n",
    "            X_tr.append(x)\n",
    "    return np.array(X_tr)    \n",
    "    "
   ]
  },
  {
   "cell_type": "code",
   "execution_count": 18,
   "metadata": {},
   "outputs": [],
   "source": [
    "maxlen = 3000\n",
    "X_train_tr = my_own_pad_sequence(train_bert_concat_articles, maxlen)\n",
    "X_test_tr = my_own_pad_sequence(test_bert_concat_articles, maxlen)\n",
    "y_train = train_labels\n",
    "y_test = test_labels"
   ]
  },
  {
   "cell_type": "code",
   "execution_count": 10,
   "metadata": {},
   "outputs": [],
   "source": [
    "import tensorflow as tf\n",
    "physical_devices = tf.config.list_physical_devices('GPU')\n",
    "tf.config.experimental.set_memory_growth(physical_devices[0], enable=True)"
   ]
  },
  {
   "cell_type": "code",
   "execution_count": 11,
   "metadata": {},
   "outputs": [],
   "source": [
    "from tensorflow.keras.layers import LSTM, CuDNNLSTM, Dense, Input\n",
    "from tensorflow.keras.models import Sequential"
   ]
  },
  {
   "cell_type": "code",
   "execution_count": 19,
   "metadata": {},
   "outputs": [
    {
     "name": "stdout",
     "output_type": "stream",
     "text": [
      "Model: \"sequential_3\"\n",
      "_________________________________________________________________\n",
      "Layer (type)                 Output Shape              Param #   \n",
      "=================================================================\n",
      "cu_dnnlstm_4 (CuDNNLSTM)     (None, 200)               776000    \n",
      "_________________________________________________________________\n",
      "dense_5 (Dense)              (None, 50)                10050     \n",
      "_________________________________________________________________\n",
      "dense_6 (Dense)              (None, 1)                 51        \n",
      "=================================================================\n",
      "Total params: 786,101\n",
      "Trainable params: 786,101\n",
      "Non-trainable params: 0\n",
      "_________________________________________________________________\n",
      "None\n"
     ]
    }
   ],
   "source": [
    "# create the model\n",
    "#n_steps = 50\n",
    "n_features = 768\n",
    "model = Sequential()\n",
    "#model.add(CuDNNLSTM(200, input_shape=(None, n_features), return_sequences= True))\n",
    "model.add(CuDNNLSTM(200, input_shape=(None, n_features)))\n",
    "model.add(Dense(50, activation='relu'))\n",
    "model.add(Dense(1, activation='linear'))\n",
    "model.compile(loss='mean_squared_error', optimizer='adam')\n",
    "print(model.summary())\n"
   ]
  },
  {
   "cell_type": "code",
   "execution_count": 20,
   "metadata": {},
   "outputs": [
    {
     "name": "stdout",
     "output_type": "stream",
     "text": [
      "Train on 364 samples, validate on 78 samples\n",
      "Epoch 1/5\n",
      "364/364 [==============================] - 18s 50ms/sample - loss: 100101.0771 - val_loss: 186927.9485\n",
      "Epoch 2/5\n",
      "364/364 [==============================] - 14s 39ms/sample - loss: 99674.0856 - val_loss: 187989.5533 983\n",
      "Epoch 3/5\n",
      "364/364 [==============================] - 14s 39ms/sample - loss: 98664.8698 - val_loss: 190151.3625\n",
      "Epoch 4/5\n",
      "364/364 [==============================] - 14s 39ms/sample - loss: 96687.1134 - val_loss: 191287.7435\n",
      "Epoch 5/5\n",
      "364/364 [==============================] - 14s 39ms/sample - loss: 91767.0199 - val_loss: 198804.4405\n"
     ]
    }
   ],
   "source": [
    "history = model.fit(X_train_tr, y_train, validation_data=(X_test_tr, y_test), epochs=5, batch_size=1)"
   ]
  },
  {
   "cell_type": "markdown",
   "metadata": {},
   "source": [
    "# DRAFTS"
   ]
  },
  {
   "cell_type": "code",
   "execution_count": 32,
   "metadata": {},
   "outputs": [],
   "source": [
    "\n",
    "train_labels = df_diff[\"BTC-USD\"].loc[:\"2019-12-31\"]\n",
    "test_labels = df_diff[\"BTC-USD\"].loc[\"2020-01-01\":]\n",
    "train_labels = train_labels[pd.DatetimeIndex(train_sentences.groupby(train_sentences.index).count().index)]\n",
    "test_labels = test_labels[pd.DatetimeIndex(test_sentences.groupby(test_sentences.index).count().index)]\n",
    "assert test_labels.shape == test_bert_concat_articles.shape\n",
    "assert train_labels.shape == train_bert_concat_articles.shape"
   ]
  },
  {
   "cell_type": "code",
   "execution_count": 585,
   "metadata": {},
   "outputs": [
    {
     "data": {
      "text/plain": [
       "(400, 80, 40, 20, 4)"
      ]
     },
     "execution_count": 585,
     "metadata": {},
     "output_type": "execute_result"
    }
   ],
   "source": [
    "d = np.arange(10000).reshape(100,5,2,2,5)\n",
    "d.strides"
   ]
  },
  {
   "cell_type": "code",
   "execution_count": 611,
   "metadata": {},
   "outputs": [],
   "source": [
    "result = np.array([])   \n",
    "for i in range(0,10):\n",
    "    result = np.append(result, np.array([i]*5))\n",
    "result = result.reshape(10,5)\n",
    "rolling_window_bert_2nd_dim(result,8)"
   ]
  },
  {
   "cell_type": "code",
   "execution_count": 10,
   "metadata": {},
   "outputs": [],
   "source": [
    "def rolling_window_bert_2nd_dim(a, window):\n",
    "    shape = (a.shape[0] - window + 1, window, a.shape[1])\n",
    "    strides = (a.strides[0], a.strides[1]*a.shape[1], a.strides[1])\n",
    "    #print(shape, strides)\n",
    "    return np.lib.stride_tricks.as_strided(a, shape=shape, strides=strides)"
   ]
  },
  {
   "cell_type": "code",
   "execution_count": 78,
   "metadata": {},
   "outputs": [],
   "source": []
  },
  {
   "cell_type": "code",
   "execution_count": 92,
   "metadata": {},
   "outputs": [],
   "source": [
    "#window = 100\n",
    "#X_train = [rolling_window_bert_2nd_dim(element, window) for element in train_bert_concat_articles]\n",
    "#X_test = [rolling_window_bert_2nd_dim(element, window) for element in test_bert_concat_articles]\n",
    "#y_train = train_labels\n",
    "#y_test = test_labels"
   ]
  },
  {
   "cell_type": "code",
   "execution_count": 102,
   "metadata": {},
   "outputs": [],
   "source": [
    "\n",
    "#X_train_tr= pad_sequences(train_bert_concat_articles, maxlen=maxlen, padding='post', truncating='post')"
   ]
  },
  {
   "cell_type": "code",
   "execution_count": 155,
   "metadata": {},
   "outputs": [],
   "source": [
    "X_train_tr = my_own_pad_sequence(train_bert_concat_articles, maxlen)\n",
    "X_test_tr = my_own_pad_sequence(test_bert_concat_articles, maxlen)"
   ]
  },
  {
   "cell_type": "code",
   "execution_count": 82,
   "metadata": {},
   "outputs": [],
   "source": [
    "from keras.preprocessing.sequence import pad_sequences\n",
    "maxlen = 5000\n",
    "X_train_tr= pad_sequences(X_train, maxlen=maxlen, truncating='post')\n",
    "X_test_tr= pad_sequences(X_test, maxlen=maxlen, truncating='post')\n",
    "\n"
   ]
  },
  {
   "cell_type": "code",
   "execution_count": 63,
   "metadata": {},
   "outputs": [
    {
     "data": {
      "text/plain": [
       "(array([  5.,  46., 104., 109.,  50.,  22.,  19.,   5.,   1.,   1.,   1.,\n",
       "          0.,   0.,   0.,   1.]),\n",
       " array([ 1478.        ,  2177.26666667,  2876.53333333,  3575.8       ,\n",
       "         4275.06666667,  4974.33333333,  5673.6       ,  6372.86666667,\n",
       "         7072.13333333,  7771.4       ,  8470.66666667,  9169.93333333,\n",
       "         9869.2       , 10568.46666667, 11267.73333333, 11967.        ]),\n",
       " <a list of 15 Patch objects>)"
      ]
     },
     "execution_count": 63,
     "metadata": {},
     "output_type": "execute_result"
    },
    {
     "data": {
      "image/png": "[encoded data removed]",
      "text/plain": [
       "<Figure size 432x288 with 1 Axes>"
      ]
     },
     "metadata": {
      "needs_background": "light"
     },
     "output_type": "display_data"
    }
   ],
   "source": [
    "plt.hist(lengths, bins = 15,)"
   ]
  },
  {
   "cell_type": "code",
   "execution_count": null,
   "metadata": {},
   "outputs": [],
   "source": []
  }
 ],
 "metadata": {
  "kernelspec": {
   "display_name": "Python (nlp)",
   "language": "python",
   "name": "myenv"
  },
  "language_info": {
   "codemirror_mode": {
    "name": "ipython",
    "version": 3
   },
   "file_extension": ".py",
   "mimetype": "text/x-python",
   "name": "python",
   "nbconvert_exporter": "python",
   "pygments_lexer": "ipython3",
   "version": "3.5.6"
  }
 },
 "nbformat": 4,
 "nbformat_minor": 2
}
