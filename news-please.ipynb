{
 "cells": [
  {
   "cell_type": "code",
   "execution_count": 3,
   "metadata": {},
   "outputs": [],
   "source": [
    "from newsplease import NewsPlease\n",
    "import yfinance as yf\n",
    "import matplotlib.pyplot as plt"
   ]
  },
  {
   "cell_type": "code",
   "execution_count": 10,
   "metadata": {},
   "outputs": [],
   "source": [
    "stocks = [\"MCD\", \"PEP\", \"KHC\", \"OXY\", \"TSLA\", \"BTC-USD\"]"
   ]
  },
  {
   "cell_type": "code",
   "execution_count": 12,
   "metadata": {},
   "outputs": [],
   "source": [
    "keywords = {\"MCD\" : [\"McDonalds\"],\n",
    "            \"PEP\" : [\"Pepsi\", \"Pepsi-cola\"],\n",
    "            \"KHC\" : [\"Heinz\", \"Kraft Heinz\"],\n",
    "            \"OXY\" : [\"Occidental Petroleum Corporation\", \"petroleum\"],\n",
    "            \"TSLA\": [\"Tesla\", \"Elon Musk\"],\n",
    "            \"BTC-USD\" : [\"Bitcoin\", \"Cryptocurrency\"] }"
   ]
  },
  {
   "cell_type": "code",
   "execution_count": 11,
   "metadata": {},
   "outputs": [
    {
     "data": {
      "text/html": [
       "<div>\n",
       "<style scoped>\n",
       "    .dataframe tbody tr th:only-of-type {\n",
       "        vertical-align: middle;\n",
       "    }\n",
       "\n",
       "    .dataframe tbody tr th {\n",
       "        vertical-align: top;\n",
       "    }\n",
       "\n",
       "    .dataframe thead th {\n",
       "        text-align: right;\n",
       "    }\n",
       "</style>\n",
       "<table border=\"1\" class=\"dataframe\">\n",
       "  <thead>\n",
       "    <tr style=\"text-align: right;\">\n",
       "      <th></th>\n",
       "      <th>BTC-USD</th>\n",
       "      <th>KHC</th>\n",
       "      <th>MCD</th>\n",
       "      <th>OXY</th>\n",
       "      <th>PEP</th>\n",
       "      <th>TSLA</th>\n",
       "    </tr>\n",
       "    <tr>\n",
       "      <th>Date</th>\n",
       "      <th></th>\n",
       "      <th></th>\n",
       "      <th></th>\n",
       "      <th></th>\n",
       "      <th></th>\n",
       "      <th></th>\n",
       "    </tr>\n",
       "  </thead>\n",
       "  <tbody>\n",
       "    <tr>\n",
       "      <th>2017-03-05</th>\n",
       "      <td>1267.119995</td>\n",
       "      <td>NaN</td>\n",
       "      <td>NaN</td>\n",
       "      <td>NaN</td>\n",
       "      <td>NaN</td>\n",
       "      <td>NaN</td>\n",
       "    </tr>\n",
       "    <tr>\n",
       "      <th>2017-03-06</th>\n",
       "      <td>1272.829956</td>\n",
       "      <td>91.160004</td>\n",
       "      <td>128.029999</td>\n",
       "      <td>64.730003</td>\n",
       "      <td>109.629997</td>\n",
       "      <td>251.210007</td>\n",
       "    </tr>\n",
       "    <tr>\n",
       "      <th>2017-03-07</th>\n",
       "      <td>1223.540039</td>\n",
       "      <td>90.800003</td>\n",
       "      <td>128.070007</td>\n",
       "      <td>64.699997</td>\n",
       "      <td>109.320000</td>\n",
       "      <td>248.589996</td>\n",
       "    </tr>\n",
       "    <tr>\n",
       "      <th>2017-03-08</th>\n",
       "      <td>1150.000000</td>\n",
       "      <td>90.900002</td>\n",
       "      <td>128.089996</td>\n",
       "      <td>62.060001</td>\n",
       "      <td>109.300003</td>\n",
       "      <td>246.869995</td>\n",
       "    </tr>\n",
       "    <tr>\n",
       "      <th>2017-03-09</th>\n",
       "      <td>1188.489990</td>\n",
       "      <td>91.529999</td>\n",
       "      <td>128.139999</td>\n",
       "      <td>62.500000</td>\n",
       "      <td>109.019997</td>\n",
       "      <td>244.899994</td>\n",
       "    </tr>\n",
       "  </tbody>\n",
       "</table>\n",
       "</div>"
      ],
      "text/plain": [
       "                BTC-USD        KHC         MCD        OXY         PEP  \\\n",
       "Date                                                                    \n",
       "2017-03-05  1267.119995        NaN         NaN        NaN         NaN   \n",
       "2017-03-06  1272.829956  91.160004  128.029999  64.730003  109.629997   \n",
       "2017-03-07  1223.540039  90.800003  128.070007  64.699997  109.320000   \n",
       "2017-03-08  1150.000000  90.900002  128.089996  62.060001  109.300003   \n",
       "2017-03-09  1188.489990  91.529999  128.139999  62.500000  109.019997   \n",
       "\n",
       "                  TSLA  \n",
       "Date                    \n",
       "2017-03-05         NaN  \n",
       "2017-03-06  251.210007  \n",
       "2017-03-07  248.589996  \n",
       "2017-03-08  246.869995  \n",
       "2017-03-09  244.899994  "
      ]
     },
     "execution_count": 11,
     "metadata": {},
     "output_type": "execute_result"
    }
   ],
   "source": [
    "df = yf.download(stocks, \n",
    "                     period = \"3Y\",\n",
    "                      #start='2019-01-01', \n",
    "                      #end='2019-12-31', \n",
    "                      progress=False)\n",
    "df[\"Close\"].head()"
   ]
  },
  {
   "cell_type": "markdown",
   "metadata": {},
   "source": [
    "## Google scraping"
   ]
  },
  {
   "cell_type": "code",
   "execution_count": 27,
   "metadata": {},
   "outputs": [],
   "source": [
    "from googlesearch import search, get_tbs"
   ]
  },
  {
   "cell_type": "code",
   "execution_count": 28,
   "metadata": {},
   "outputs": [],
   "source": [
    "import datetime"
   ]
  },
  {
   "cell_type": "code",
   "execution_count": 31,
   "metadata": {},
   "outputs": [],
   "source": [
    "d = datetime.datetime.strptime(\"20200201\", \"%Y%m%d\")\n",
    "d = datetime.datetime.strptime(\"20200201\", \"%Y%m%d\")"
   ]
  },
  {
   "cell_type": "code",
   "execution_count": 33,
   "metadata": {},
   "outputs": [
    {
     "data": {
      "text/plain": [
       "'cdr:1,cd_min:02/01/2020,cd_max:02/01/2020'"
      ]
     },
     "execution_count": 33,
     "metadata": {},
     "output_type": "execute_result"
    }
   ],
   "source": [
    "tbs"
   ]
  },
  {
   "cell_type": "code",
   "execution_count": 32,
   "metadata": {},
   "outputs": [],
   "source": [
    "tbs = get_tbs(d,d)"
   ]
  },
  {
   "cell_type": "code",
   "execution_count": 35,
   "metadata": {
    "scrolled": true
   },
   "outputs": [],
   "source": [
    "terms = \"McDonalds\"\n",
    "results =  search(terms ,lang = \"en\",tbs = tbs, country = \"usa\", tpe = \"nws\", stop=5)\n",
    "urls = []\n",
    "for url in results:\n",
    "    urls.append(url)"
   ]
  },
  {
   "cell_type": "code",
   "execution_count": 36,
   "metadata": {},
   "outputs": [
    {
     "name": "stdout",
     "output_type": "stream",
     "text": [
      "https://www.voanews.com/europe/mcdonalds-marks-30-years-russia\n",
      "https://www.thesun.co.uk/money/10869432/tesco-curry-sauce-tastes-mcdonalds-dip/\n",
      "https://nypost.com/2020/02/01/mcmillions-how-ex-cop-orchestrated-24-million-mcdonalds-monopoly-scam/\n",
      "http://wlos.com/news/local/watch-oh-deer-nc-man-gets-plowed-over-by-animal-in-a-mcdonalds-parking-lot\n",
      "https://www.cbs58.com/news/deer-tramples-man-in-a-mcdonalds-parking-lot\n"
     ]
    }
   ],
   "source": [
    "for r in urls:\n",
    "    print(r)"
   ]
  },
  {
   "cell_type": "code",
   "execution_count": null,
   "metadata": {},
   "outputs": [],
   "source": []
  },
  {
   "cell_type": "code",
   "execution_count": 49,
   "metadata": {},
   "outputs": [
    {
     "name": "stdout",
     "output_type": "stream",
     "text": [
      "https://www.voanews.com/europe/mcdonalds-marks-30-years-russia\n"
     ]
    },
    {
     "ename": "TypeError",
     "evalue": "'builtin_function_or_method' object is not subscriptable",
     "output_type": "error",
     "traceback": [
      "\u001b[0;31m---------------------------------------------------------------------------\u001b[0m",
      "\u001b[0;31mTypeError\u001b[0m                                 Traceback (most recent call last)",
      "\u001b[0;32m<ipython-input-49-244e7686180a>\u001b[0m in \u001b[0;36m<module>\u001b[0;34m\u001b[0m\n\u001b[1;32m      3\u001b[0m     \u001b[0mprint\u001b[0m\u001b[0;34m(\u001b[0m\u001b[0murl\u001b[0m\u001b[0;34m)\u001b[0m\u001b[0;34m\u001b[0m\u001b[0;34m\u001b[0m\u001b[0m\n\u001b[1;32m      4\u001b[0m     \u001b[0marticle\u001b[0m \u001b[0;34m=\u001b[0m \u001b[0mNewsPlease\u001b[0m\u001b[0;34m.\u001b[0m\u001b[0mfrom_url\u001b[0m\u001b[0;34m(\u001b[0m\u001b[0murl\u001b[0m\u001b[0;34m)\u001b[0m\u001b[0;34m\u001b[0m\u001b[0;34m\u001b[0m\u001b[0m\n\u001b[0;32m----> 5\u001b[0;31m     \u001b[0marticles\u001b[0m\u001b[0;34m.\u001b[0m\u001b[0mappend\u001b[0m\u001b[0;34m[\u001b[0m\u001b[0marticle\u001b[0m\u001b[0;34m]\u001b[0m\u001b[0;34m\u001b[0m\u001b[0;34m\u001b[0m\u001b[0m\n\u001b[0m",
      "\u001b[0;31mTypeError\u001b[0m: 'builtin_function_or_method' object is not subscriptable"
     ]
    }
   ],
   "source": [
    "articles = []\n",
    "for url in urls:\n",
    "    print(url)\n",
    "    article = NewsPlease.from_url(url)\n",
    "    articles.append[article]"
   ]
  },
  {
   "cell_type": "code",
   "execution_count": 45,
   "metadata": {},
   "outputs": [],
   "source": [
    "a = []\n",
    "a.append(article)"
   ]
  },
  {
   "cell_type": "code",
   "execution_count": 47,
   "metadata": {},
   "outputs": [
    {
     "data": {
      "text/plain": [
       "[<NewsArticle.NewsArticle at 0x1240af850>]"
      ]
     },
     "execution_count": 47,
     "metadata": {},
     "output_type": "execute_result"
    }
   ],
   "source": [
    "a"
   ]
  },
  {
   "cell_type": "code",
   "execution_count": 42,
   "metadata": {},
   "outputs": [
    {
     "ename": "AttributeError",
     "evalue": "'NewsArticle' object has no attribute 'body'",
     "output_type": "error",
     "traceback": [
      "\u001b[0;31m---------------------------------------------------------------------------\u001b[0m",
      "\u001b[0;31mAttributeError\u001b[0m                            Traceback (most recent call last)",
      "\u001b[0;32m<ipython-input-42-083614c1f1ea>\u001b[0m in \u001b[0;36m<module>\u001b[0;34m\u001b[0m\n\u001b[0;32m----> 1\u001b[0;31m \u001b[0mNewsPlease\u001b[0m\u001b[0;34m.\u001b[0m\u001b[0mfrom_url\u001b[0m\u001b[0;34m(\u001b[0m\u001b[0murl\u001b[0m\u001b[0;34m)\u001b[0m\u001b[0;34m.\u001b[0m\u001b[0mbody\u001b[0m\u001b[0;34m\u001b[0m\u001b[0;34m\u001b[0m\u001b[0m\n\u001b[0m",
      "\u001b[0;31mAttributeError\u001b[0m: 'NewsArticle' object has no attribute 'body'"
     ]
    }
   ],
   "source": [
    "NewsPlease.from_url(url)."
   ]
  },
  {
   "cell_type": "markdown",
   "metadata": {},
   "source": [
    "-----"
   ]
  },
  {
   "cell_type": "code",
   "execution_count": 4,
   "metadata": {},
   "outputs": [],
   "source": [
    "url = \"https://www.elmundo.es/economia/actualidad-economica/2020/02/19/5e4d7b2ffc6c83230c8b45bd.html\""
   ]
  },
  {
   "cell_type": "code",
   "execution_count": 5,
   "metadata": {},
   "outputs": [
    {
     "name": "stdout",
     "output_type": "stream",
     "text": [
      "Robert Sirico: \"¿Quiere ayudar a los pobres? Monte una empresa\"\n"
     ]
    }
   ],
   "source": [
    "article = NewsPlease.from_url(url)\n",
    "print(article.title)"
   ]
  },
  {
   "cell_type": "code",
   "execution_count": 6,
   "metadata": {},
   "outputs": [
    {
     "data": {
      "text/plain": [
       "['Ángel Navarrete', 'Miguel Ors Villarejo']"
      ]
     },
     "execution_count": 6,
     "metadata": {},
     "output_type": "execute_result"
    }
   ],
   "source": [
    "article.authors"
   ]
  },
  {
   "cell_type": "code",
   "execution_count": 7,
   "metadata": {},
   "outputs": [
    {
     "data": {
      "text/plain": [
       "datetime.datetime(2020, 3, 19, 13, 27, 47)"
      ]
     },
     "execution_count": 7,
     "metadata": {},
     "output_type": "execute_result"
    }
   ],
   "source": [
    "article.date_download"
   ]
  },
  {
   "cell_type": "code",
   "execution_count": 8,
   "metadata": {},
   "outputs": [
    {
     "data": {
      "text/plain": [
       "'Si de verdad nos preocupa la necesidad ajena, sostiene el sacerdote católico y fundador del Instituto Acton, debemos ser prácticos e ir a lo que funciona, y \"lo único absolutamente contrastado no es la caridad, sino el libre mercado\"\\nComo parte de su formación pastoral, a Robert Sirico (Nueva York, 1951) lo destinaron un semestre a una olla popular. Todos los viernes, él y otro seminarista se desplazaban a Anacostia, un barrio de Washington, montaban un refectorio en el sótano de una iglesia baptista, servían el rancho, daban conversación a los que se acercaban a almorzar y lo dejaban luego todo limpio y recogido. El lema de la hermana que dirigía aquel proyecto era \"Quien quiera venir, puede venir\". Había que atender a todo\\nPara seguir leyendo, hazte Premium ¿Ya eres Premium? Inicia sesión Mensual Oferta de lanzamiento 1 € primer mes después 7,99 € Lo quiero'"
      ]
     },
     "execution_count": 8,
     "metadata": {},
     "output_type": "execute_result"
    }
   ],
   "source": [
    "article.maintext"
   ]
  },
  {
   "cell_type": "code",
   "execution_count": 17,
   "metadata": {},
   "outputs": [
    {
     "data": {
      "text/plain": [
       "'Si de verdad nos preocupa la necesidad ajena, sostiene el sacerdote católico y fundador del Instituto Acton, debemos ser prácticos e ir a lo que funciona, y \"lo único absolutamente contrastado no es la caridad, sino el libre mercado\"\\nComo parte de su formación pastoral, a Robert Sirico (Nueva York, 1951) lo destinaron un semestre a una olla popular. Todos los viernes, él y otro seminarista se desplazaban a Anacostia, un barrio de Washington, montaban un refectorio en el sótano de una iglesia baptista, servían el rancho, daban conversación a los que se acercaban a almorzar y lo dejaban luego todo limpio y recogido. El lema de la hermana que dirigía aquel proyecto era \"Quien quiera venir, puede venir\". Había que atender a todo\\nPara seguir leyendo, hazte Premium ¿Ya eres Premium? Inicia sesión Mensual Oferta de lanzamiento 1 € primer mes después 7,99 € Lo quiero'"
      ]
     },
     "execution_count": 17,
     "metadata": {},
     "output_type": "execute_result"
    }
   ],
   "source": [
    "article.maintext"
   ]
  },
  {
   "cell_type": "code",
   "execution_count": 12,
   "metadata": {},
   "outputs": [
    {
     "data": {
      "text/plain": [
       "'https://e00-elmundo.uecdn.es/assets/multimedia/imagenes/2020/02/20/15821969919820.jpg'"
      ]
     },
     "execution_count": 12,
     "metadata": {},
     "output_type": "execute_result"
    }
   ],
   "source": [
    "article.image_url"
   ]
  },
  {
   "cell_type": "code",
   "execution_count": 1,
   "metadata": {},
   "outputs": [
    {
     "ename": "ModuleNotFoundError",
     "evalue": "No module named 'yfinance'",
     "output_type": "error",
     "traceback": [
      "\u001b[0;31m---------------------------------------------------------------------------\u001b[0m",
      "\u001b[0;31mModuleNotFoundError\u001b[0m                       Traceback (most recent call last)",
      "\u001b[0;32m<ipython-input-1-707c158e3afd>\u001b[0m in \u001b[0;36m<module>\u001b[0;34m\u001b[0m\n\u001b[0;32m----> 1\u001b[0;31m \u001b[0;32mimport\u001b[0m \u001b[0myfinance\u001b[0m \u001b[0;32mas\u001b[0m \u001b[0myf\u001b[0m\u001b[0;34m\u001b[0m\u001b[0;34m\u001b[0m\u001b[0m\n\u001b[0m\u001b[1;32m      2\u001b[0m \u001b[0;32mimport\u001b[0m \u001b[0mmatplotlib\u001b[0m\u001b[0;34m.\u001b[0m\u001b[0mpyplot\u001b[0m \u001b[0;32mas\u001b[0m \u001b[0mplt\u001b[0m\u001b[0;34m\u001b[0m\u001b[0;34m\u001b[0m\u001b[0m\n",
      "\u001b[0;31mModuleNotFoundError\u001b[0m: No module named 'yfinance'"
     ]
    }
   ],
   "source": []
  }
 ],
 "metadata": {
  "kernelspec": {
   "display_name": "tfm",
   "language": "python",
   "name": "tfm"
  },
  "language_info": {
   "codemirror_mode": {
    "name": "ipython",
    "version": 3
   },
   "file_extension": ".py",
   "mimetype": "text/x-python",
   "name": "python",
   "nbconvert_exporter": "python",
   "pygments_lexer": "ipython3",
   "version": "3.7.6"
  }
 },
 "nbformat": 4,
 "nbformat_minor": 2
}
